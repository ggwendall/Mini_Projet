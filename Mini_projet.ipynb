{
 "cells": [
  {
   "attachments": {},
   "cell_type": "markdown",
   "metadata": {},
   "source": []
  },
  {
   "attachments": {},
   "cell_type": "markdown",
   "metadata": {},
   "source": [
    "Proposé un choix de ce que l'utilisateur souhaite faire "
   ]
  },
  {
   "cell_type": "code",
   "execution_count": null,
   "metadata": {},
   "outputs": [],
   "source": [
    "def le_switch(L,N,Choix):\n",
    "    match Choix:\n",
    "        case 1:\n",
    "            print(retoureDesNPlusExtremeDeListe(L, N, plusPetit=False))\n",
    "        case 2:\n",
    "            print(retoureDesNPlusExtremeDeListe(L, N, plusPetit=True))\n",
    "        case 3:\n",
    "            compteur = L.count(int(N))\n",
    "            print(\"Il y'a\",compteur, \"occurences de\",N,\".\")\n",
    "        case 4:\n",
    "            inverse = L [::-1]\n",
    "            print(inverse)\n",
    "        case 5:\n",
    "            print(trier_pairs(L))\n",
    "        case 6:\n",
    "            print(trier_impairs(L))\n",
    "        case 7:\n",
    "            print(fonction_index(L,N))\n",
    "        case _:\n",
    "            print(\"error: choix n'est pas bon\")\n",
    "\n",
    "print(\"\\n(1)plus grands elements \")\n",
    "print(\"(2)plus petit elements \")\n",
    "print(\"(3)liste inverse\")\n",
    "print(\"(4)nombre c'occurrance\")\n",
    "print(\"(5)element pair\")\n",
    "print(\"(6)element inpair\")\n",
    "print(\"(7)index de N\")\n",
    "\n",
    "Choix=int(input(\"choix :\"))\n",
    "\n",
    "N=int(input(\"N=\"))\n",
    "L=[4,4,5,2,6,7,0,4,0]\n",
    "le_switch(L,N,Choix)"
   ]
  },
  {
   "attachments": {},
   "cell_type": "markdown",
   "metadata": {},
   "source": [
    "-Retourner les N plus grands éléments d'une liste et leur(s) index.\n",
    "-Retourner les N plus petits éléments d'une liste et leur(s) index."
   ]
  },
  {
   "cell_type": "code",
   "execution_count": null,
   "metadata": {},
   "outputs": [],
   "source": [
    "\n",
    "def ordonnerUneListe(listeDansLeDesordre):\n",
    "    listeOrdoner = []\n",
    "    for iteration in range(len(listeDansLeDesordre)):\n",
    "        elementLePlusGrand = 0\n",
    "        for element in listeDansLeDesordre:\n",
    "            if int(element) > int(elementLePlusGrand):\n",
    "                elementLePlusGrand = element\n",
    "        listeOrdoner.append(elementLePlusGrand)\n",
    "        listeDansLeDesordre.remove(elementLePlusGrand)\n",
    "    return listeOrdoner\n",
    "\n",
    "def retoureDesNPlusExtremeDeListe(liste, nombreElemente, plusPetit=False):\n",
    "    liste = ordonnerUneListe(liste)\n",
    "    if type(nombreElemente) != int or nombreElemente < 1 or nombreElemente > len(liste):\n",
    "        nombreElemente = 1\n",
    "    if not plusPetit:\n",
    "        listeARetourner = []\n",
    "        for i in range(nombreElemente):\n",
    "            listeARetourner.append(liste[i])\n",
    "        return listeARetourner\n",
    "    else:\n",
    "        listeARetourner = []\n",
    "        for i in range((len(liste)-1), ((len(liste)-1)-nombreElemente), -1):\n",
    "            listeARetourner.append(liste[i])\n",
    "        return listeARetourner"
   ]
  },
  {
   "cell_type": "code",
   "execution_count": null,
   "metadata": {},
   "outputs": [],
   "source": []
  },
  {
   "attachments": {},
   "cell_type": "markdown",
   "metadata": {},
   "source": [
    "Retourner l'inverse d'une liste."
   ]
  },
  {
   "cell_type": "code",
   "execution_count": null,
   "metadata": {},
   "outputs": [],
   "source": [
    "liste = [1,2,3,4,5]\n",
    "inverse = liste [::-1]\n",
    "print(inverse)"
   ]
  },
  {
   "attachments": {},
   "cell_type": "markdown",
   "metadata": {},
   "source": [
    "Retourner le nombre d'occurrences d'un élément donné."
   ]
  },
  {
   "cell_type": "code",
   "execution_count": null,
   "metadata": {},
   "outputs": [],
   "source": [
    "def compteurElement(L,element):\n",
    "    counter = 0\n",
    "    for element2 in L:\n",
    "        if element2 == element:\n",
    "            counter += 1\n",
    "    return counter\n",
    "\n",
    "liste = [1,2,3,4,5,1,2,3,3,4,4,4,5,5,5,5]\n",
    "element = int(input(\"Quel élément voulez-vous compter ?\"))\n",
    "print (compteurElement(liste, element))"
   ]
  },
  {
   "attachments": {},
   "cell_type": "markdown",
   "metadata": {},
   "source": [
    "Retourner une liste contenant les éléments pairs."
   ]
  },
  {
   "cell_type": "code",
   "execution_count": 4,
   "metadata": {},
   "outputs": [
    {
     "name": "stdout",
     "output_type": "stream",
     "text": [
      "Liste d'origine : [9, 7, 3, 5, 1]\n",
      "Éléments pairs triés : []\n"
     ]
    }
   ],
   "source": [
    "def trier_pairs(liste):\n",
    "    pairs = [x for x in liste if x % 2 == 0]\n",
    "    n = len(pairs)\n",
    "    for i in range(n - 1):\n",
    "        for j in range(0, n - i - 1):\n",
    "            if pairs[j] > pairs[j + 1]:\n",
    "                pairs[j], pairs[j + 1] = pairs[j + 1], pairs[j]\n",
    "    return pairs\n",
    "\n",
    "ma_liste = [9, 4, 7, 2, 6, 3, 8, 5, 1]\n",
    "pairs_tries = trier_pairs(ma_liste)\n",
    "\n",
    "print(\"Liste d'origine :\", ma_liste)\n",
    "print(\"Éléments pairs triés :\", pairs_tries)"
   ]
  },
  {
   "attachments": {},
   "cell_type": "markdown",
   "metadata": {},
   "source": [
    "Retourner une liste contenant les éléments impairs."
   ]
  },
  {
   "cell_type": "code",
   "execution_count": 3,
   "metadata": {},
   "outputs": [
    {
     "name": "stdout",
     "output_type": "stream",
     "text": [
      "Liste d'origine : [9, 4, 7, 2, 6, 3, 8, 5, 1]\n",
      "Éléments impairs triés : [1, 3, 5, 7, 9]\n"
     ]
    }
   ],
   "source": [
    "def trier_impairs(liste):\n",
    "    impairs = [x for x in liste if x % 2 != 0]\n",
    "    n = len(impairs)\n",
    "    for i in range(n - 1):\n",
    "        for j in range(0, n - i - 1):\n",
    "            if impairs[j] > impairs[j + 1]:\n",
    "                impairs[j], impairs[j + 1] = impairs[j + 1], impairs[j]\n",
    "    return impairs\n",
    "\n",
    "# Exemple d'utilisation\n",
    "ma_liste = [9, 4, 7, 2, 6, 3, 8, 5, 1]\n",
    "impairs_tries = trier_impairs(ma_liste)\n",
    "\n",
    "print(\"Liste d'origine :\", ma_liste)\n",
    "print(\"Éléments impairs triés :\", impairs_tries)"
   ]
  },
  {
   "attachments": {},
   "cell_type": "markdown",
   "metadata": {},
   "source": [
    "Retourner le(s) index de l'élément N dans une liste."
   ]
  },
  {
   "cell_type": "code",
   "execution_count": null,
   "metadata": {},
   "outputs": [],
   "source": [
    "def fonction_index(L,N):\n",
    "    resultat=[]\n",
    "    for i in range (len(L)):\n",
    "        if L[i] == N:\n",
    "            resultat.append(i)\n",
    "    return resultat"
   ]
  }
 ],
 "metadata": {
  "kernelspec": {
   "display_name": "Python 3",
   "language": "python",
   "name": "python3"
  },
  "language_info": {
   "codemirror_mode": {
    "name": "ipython",
    "version": 3
   },
   "file_extension": ".py",
   "mimetype": "text/x-python",
   "name": "python",
   "nbconvert_exporter": "python",
   "pygments_lexer": "ipython3",
   "version": "3.11.3"
  },
  "orig_nbformat": 4
 },
 "nbformat": 4,
 "nbformat_minor": 2
}
